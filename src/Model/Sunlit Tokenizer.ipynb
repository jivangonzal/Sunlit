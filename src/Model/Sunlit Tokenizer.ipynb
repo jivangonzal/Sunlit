{
 "cells": [
  {
   "cell_type": "code",
   "execution_count": null,
   "id": "1dfed9c9",
   "metadata": {},
   "outputs": [],
   "source": [
    "import os\n",
    "\n",
    "if not os.path.exists('/media/Data/DataSet'):\n",
    "    print('DataSet not found')\n",
    "else :\n",
    "    print('ok')"
   ]
  },
  {
   "cell_type": "code",
   "execution_count": null,
   "id": "e96cca3e",
   "metadata": {},
   "outputs": [],
   "source": [
    "from pathlib import Path\n",
    "from tokenizers import BertWordPieceTokenizer\n",
    "\n",
    "\n",
    "paths = [str(x) for x in Path('/media/Data/onlytext').glob('**/*.csv')]\n",
    "tokenizer = BertWordPieceTokenizer()\n",
    "special_tokens = [\n",
    "  \"[PAD]\", \"[UNK]\", \"[CLS]\", \"[SEP]\", \"[MASK]\", \"<S>\", \"<T>\"\n",
    "    ]\n",
    "    \n",
    "tokenizer.train(files=paths[:5], vocab_size=30_522, min_frequency=2,\n",
    "                special_tokens=special_tokens)\n",
    "\n",
    "tokenizer.enable_truncation(max_length=512)\n",
    "\n",
    "if not os.path.isdir('/media/Data/HexTokenizer'):\n",
    "    os.mkdir('/media/Data/HexTokenizer')\n",
    "tokenizer.save_model('/media/Data/HexTokenizer')"
   ]
  },
  {
   "cell_type": "code",
   "execution_count": null,
   "id": "9ac2a5c0",
   "metadata": {},
   "outputs": [],
   "source": [
    "import json\n",
    "\n",
    "with open(os.path.join(\"/media/Data/HexTokenizer\", \"config.json\"), \"w\") as f:\n",
    "  tokenizer_cfg = {\n",
    "      \"do_lower_case\": True,\n",
    "      \"unk_token\": \"[UNK]\",\n",
    "      \"sep_token\": \"[SEP]\",\n",
    "      \"pad_token\": \"[PAD]\",\n",
    "      \"cls_token\": \"[CLS]\",\n",
    "      \"mask_token\": \"[MASK]\",\n",
    "      \"model_max_length\": 512,\n",
    "      \"max_len\": 512,\n",
    "  }\n",
    "  json.dump(tokenizer_cfg, f)"
   ]
  }
 ],
 "metadata": {
  "kernelspec": {
   "display_name": "Python 3 (ipykernel)",
   "language": "python",
   "name": "python3"
  },
  "language_info": {
   "codemirror_mode": {
    "name": "ipython",
    "version": 3
   },
   "file_extension": ".py",
   "mimetype": "text/x-python",
   "name": "python",
   "nbconvert_exporter": "python",
   "pygments_lexer": "ipython3",
   "version": "3.7.7"
  }
 },
 "nbformat": 4,
 "nbformat_minor": 5
}
